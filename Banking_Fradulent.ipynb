{
 "cells": [
  {
   "cell_type": "markdown",
   "id": "b9c41760-c357-4636-a9dd-455d16416a0e",
   "metadata": {},
   "source": [
    "# Fradulent Transaction Detection in Banking Sector"
   ]
  },
  {
   "cell_type": "markdown",
   "id": "84135438-ccce-431d-a51f-6209178cbbc4",
   "metadata": {},
   "source": [
    "'''The following is the data pre-processing to build a predictive model to detect fradulent ATM transactions and possibly eliminate such transactions.\n",
    "The datasets available includes:\n",
    "\n",
    "- Geo_scores- data regarding location of transaction\n",
    "- Lambda_wts- proprietary index\n",
    "- Qset_tats- network turn around times\n",
    "- Instances_scores- vulnerability qualification score\n",
    "- Train and Test Dataset containing masked variables\n",
    "\n",
    "The prediction target is column 'Target' where-\n",
    "- 1: Fraudulent transactions\n",
    "- 0: Clean transactions\n",
    "'''"
   ]
  },
  {
   "cell_type": "code",
   "execution_count": 1,
   "id": "643f1c1f-e636-44be-9e9a-4f998a784084",
   "metadata": {},
   "outputs": [],
   "source": [
    "import os\n",
    "import numpy as np\n",
    "import pandas as pd\n",
    "import matplotlib.pyplot as plt\n",
    "import seaborn as sns\n",
    "sns.set()\n",
    "%matplotlib inline\n",
    "import warnings \n",
    "warnings.filterwarnings(\"ignore\")"
   ]
  },
  {
   "cell_type": "code",
   "execution_count": 2,
   "id": "01a65bbc-6e8e-4614-8d03-8cf302a0f8e2",
   "metadata": {},
   "outputs": [],
   "source": [
    "#importing all the required datasets\n",
    "\n",
    "geo= pd.read_csv(r'C:\\\\Users\\\\HP\\\\Downloads\\\\Geo_scores.csv')\n",
    "instance= pd.read_csv(r'C:\\\\Users\\\\HP\\\\Downloads\\\\instance_scores.csv')\n",
    "lmbda= pd.read_csv(r'C:\\\\Users\\\\HP\\\\Downloads\\\\Lambda_wts.csv')\n",
    "qset= pd.read_csv(r'C:\\\\Users\\\\HP\\\\Downloads\\\\Qset_tats.csv')\n",
    "train= pd.read_csv(r'C:\\\\Users\\\\HP\\\\Downloads\\\\train.csv')\n",
    "test= pd.read_csv(r'C:\\\\Users\\\\HP\\\\Downloads\\\\test_share.csv')"
   ]
  },
  {
   "cell_type": "code",
   "execution_count": 3,
   "id": "58cfdc0a-33be-4623-800b-376080eea14a",
   "metadata": {},
   "outputs": [
    {
     "name": "stdout",
     "output_type": "stream",
     "text": [
      "(1424035, 2)\n",
      "*******************************\n",
      "(1424035, 2)\n",
      "*******************************\n",
      "(1400, 2)\n",
      "*******************************\n",
      "(1424035, 2)\n",
      "*******************************\n",
      "(227845, 28)\n",
      "*******************************\n",
      "(56962, 27)\n",
      "*******************************\n"
     ]
    }
   ],
   "source": [
    "#to check the number of rows and columns in each dataset\n",
    "\n",
    "print(geo.shape)\n",
    "print('*******************************')\n",
    "print(instance.shape)\n",
    "print('*******************************')\n",
    "print(lmbda.shape)\n",
    "print('*******************************')\n",
    "print(qset.shape)\n",
    "print('*******************************')\n",
    "print(train.shape)\n",
    "print('*******************************')\n",
    "print(test.shape)\n",
    "print('*******************************')"
   ]
  },
  {
   "cell_type": "code",
   "execution_count": 4,
   "id": "05a67e3c-aa70-4a81-8394-54d4875647fe",
   "metadata": {},
   "outputs": [
    {
     "name": "stdout",
     "output_type": "stream",
     "text": [
      "<class 'pandas.core.frame.DataFrame'>\n",
      "RangeIndex: 1424035 entries, 0 to 1424034\n",
      "Data columns (total 2 columns):\n",
      " #   Column     Non-Null Count    Dtype  \n",
      "---  ------     --------------    -----  \n",
      " 0   id         1424035 non-null  int64  \n",
      " 1   geo_score  1352492 non-null  float64\n",
      "dtypes: float64(1), int64(1)\n",
      "memory usage: 21.7 MB\n",
      "None\n",
      "*******************************\n",
      "<class 'pandas.core.frame.DataFrame'>\n",
      "RangeIndex: 1424035 entries, 0 to 1424034\n",
      "Data columns (total 2 columns):\n",
      " #   Column           Non-Null Count    Dtype  \n",
      "---  ------           --------------    -----  \n",
      " 0   id               1424035 non-null  int64  \n",
      " 1   instance_scores  1424035 non-null  float64\n",
      "dtypes: float64(1), int64(1)\n",
      "memory usage: 21.7 MB\n",
      "None\n",
      "*******************************\n",
      "<class 'pandas.core.frame.DataFrame'>\n",
      "RangeIndex: 1400 entries, 0 to 1399\n",
      "Data columns (total 2 columns):\n",
      " #   Column     Non-Null Count  Dtype  \n",
      "---  ------     --------------  -----  \n",
      " 0   Group      1400 non-null   object \n",
      " 1   lambda_wt  1400 non-null   float64\n",
      "dtypes: float64(1), object(1)\n",
      "memory usage: 22.0+ KB\n",
      "None\n",
      "*******************************\n",
      "<class 'pandas.core.frame.DataFrame'>\n",
      "RangeIndex: 1424035 entries, 0 to 1424034\n",
      "Data columns (total 2 columns):\n",
      " #   Column                Non-Null Count    Dtype  \n",
      "---  ------                --------------    -----  \n",
      " 0   id                    1424035 non-null  int64  \n",
      " 1   qsets_normalized_tat  1320834 non-null  float64\n",
      "dtypes: float64(1), int64(1)\n",
      "memory usage: 21.7 MB\n",
      "None\n",
      "*******************************\n",
      "<class 'pandas.core.frame.DataFrame'>\n",
      "RangeIndex: 227845 entries, 0 to 227844\n",
      "Data columns (total 28 columns):\n",
      " #   Column          Non-Null Count   Dtype  \n",
      "---  ------          --------------   -----  \n",
      " 0   id              227845 non-null  int64  \n",
      " 1   Group           227845 non-null  object \n",
      " 2   Per1            227845 non-null  float64\n",
      " 3   Per2            227845 non-null  float64\n",
      " 4   Per3            227845 non-null  float64\n",
      " 5   Per4            227845 non-null  float64\n",
      " 6   Per5            227845 non-null  float64\n",
      " 7   Per6            227845 non-null  float64\n",
      " 8   Per7            227845 non-null  float64\n",
      " 9   Per8            227845 non-null  float64\n",
      " 10  Per9            227845 non-null  float64\n",
      " 11  Dem1            227845 non-null  float64\n",
      " 12  Dem2            227845 non-null  float64\n",
      " 13  Dem3            227845 non-null  float64\n",
      " 14  Dem4            227845 non-null  float64\n",
      " 15  Dem5            227845 non-null  float64\n",
      " 16  Dem6            227845 non-null  float64\n",
      " 17  Dem7            227845 non-null  float64\n",
      " 18  Dem8            227845 non-null  float64\n",
      " 19  Dem9            227845 non-null  float64\n",
      " 20  Cred1           227845 non-null  float64\n",
      " 21  Cred2           227845 non-null  float64\n",
      " 22  Cred3           227845 non-null  float64\n",
      " 23  Cred4           227845 non-null  float64\n",
      " 24  Cred5           227845 non-null  float64\n",
      " 25  Cred6           227845 non-null  float64\n",
      " 26  Normalised_FNT  227845 non-null  float64\n",
      " 27  Target          227845 non-null  int64  \n",
      "dtypes: float64(25), int64(2), object(1)\n",
      "memory usage: 48.7+ MB\n",
      "None\n",
      "*******************************\n",
      "<class 'pandas.core.frame.DataFrame'>\n",
      "RangeIndex: 56962 entries, 0 to 56961\n",
      "Data columns (total 27 columns):\n",
      " #   Column          Non-Null Count  Dtype  \n",
      "---  ------          --------------  -----  \n",
      " 0   id              56962 non-null  int64  \n",
      " 1   Group           56962 non-null  object \n",
      " 2   Per1            56962 non-null  float64\n",
      " 3   Per2            56962 non-null  float64\n",
      " 4   Per3            56962 non-null  float64\n",
      " 5   Per4            56962 non-null  float64\n",
      " 6   Per5            56962 non-null  float64\n",
      " 7   Per6            56962 non-null  float64\n",
      " 8   Per7            56962 non-null  float64\n",
      " 9   Per8            56962 non-null  float64\n",
      " 10  Per9            56962 non-null  float64\n",
      " 11  Dem1            56962 non-null  float64\n",
      " 12  Dem2            56962 non-null  float64\n",
      " 13  Dem3            56962 non-null  float64\n",
      " 14  Dem4            56962 non-null  float64\n",
      " 15  Dem5            56962 non-null  float64\n",
      " 16  Dem6            56962 non-null  float64\n",
      " 17  Dem7            56962 non-null  float64\n",
      " 18  Dem8            56962 non-null  float64\n",
      " 19  Dem9            56962 non-null  float64\n",
      " 20  Cred1           56962 non-null  float64\n",
      " 21  Cred2           56962 non-null  float64\n",
      " 22  Cred3           56962 non-null  float64\n",
      " 23  Cred4           56962 non-null  float64\n",
      " 24  Cred5           56962 non-null  float64\n",
      " 25  Cred6           56962 non-null  float64\n",
      " 26  Normalised_FNT  56962 non-null  float64\n",
      "dtypes: float64(25), int64(1), object(1)\n",
      "memory usage: 11.7+ MB\n",
      "None\n",
      "*******************************\n"
     ]
    }
   ],
   "source": [
    "#to get quick summary of each dataset. \n",
    "\n",
    "print(geo.info())\n",
    "print('*******************************')\n",
    "print(instance.info())\n",
    "print('*******************************')\n",
    "print(lmbda.info())\n",
    "print('*******************************')\n",
    "print(qset.info())\n",
    "print('*******************************')\n",
    "print(train.info())\n",
    "print('*******************************')\n",
    "print(test.info())\n",
    "print('*******************************')"
   ]
  },
  {
   "cell_type": "code",
   "execution_count": 5,
   "id": "80cfa812-6bb4-403c-a9e3-97fce2ae0cf0",
   "metadata": {},
   "outputs": [
    {
     "name": "stdout",
     "output_type": "stream",
     "text": [
      "id               0\n",
      "geo_score    71543\n",
      "dtype: int64\n",
      "*******************************\n",
      "id                 0\n",
      "instance_scores    0\n",
      "dtype: int64\n",
      "*******************************\n",
      "Group        0\n",
      "lambda_wt    0\n",
      "dtype: int64\n",
      "*******************************\n",
      "id                           0\n",
      "qsets_normalized_tat    103201\n",
      "dtype: int64\n",
      "*******************************\n",
      "id                0\n",
      "Group             0\n",
      "Per1              0\n",
      "Per2              0\n",
      "Per3              0\n",
      "Per4              0\n",
      "Per5              0\n",
      "Per6              0\n",
      "Per7              0\n",
      "Per8              0\n",
      "Per9              0\n",
      "Dem1              0\n",
      "Dem2              0\n",
      "Dem3              0\n",
      "Dem4              0\n",
      "Dem5              0\n",
      "Dem6              0\n",
      "Dem7              0\n",
      "Dem8              0\n",
      "Dem9              0\n",
      "Cred1             0\n",
      "Cred2             0\n",
      "Cred3             0\n",
      "Cred4             0\n",
      "Cred5             0\n",
      "Cred6             0\n",
      "Normalised_FNT    0\n",
      "Target            0\n",
      "dtype: int64\n",
      "*******************************\n",
      "id                0\n",
      "Group             0\n",
      "Per1              0\n",
      "Per2              0\n",
      "Per3              0\n",
      "Per4              0\n",
      "Per5              0\n",
      "Per6              0\n",
      "Per7              0\n",
      "Per8              0\n",
      "Per9              0\n",
      "Dem1              0\n",
      "Dem2              0\n",
      "Dem3              0\n",
      "Dem4              0\n",
      "Dem5              0\n",
      "Dem6              0\n",
      "Dem7              0\n",
      "Dem8              0\n",
      "Dem9              0\n",
      "Cred1             0\n",
      "Cred2             0\n",
      "Cred3             0\n",
      "Cred4             0\n",
      "Cred5             0\n",
      "Cred6             0\n",
      "Normalised_FNT    0\n",
      "dtype: int64\n",
      "*******************************\n"
     ]
    }
   ],
   "source": [
    "#finding the number of datapoints that are null \n",
    "\n",
    "print(geo.isnull().sum())\n",
    "print('*******************************')\n",
    "print(instance.isnull().sum())\n",
    "print('*******************************')\n",
    "print(lmbda.isnull().sum())\n",
    "print('*******************************')\n",
    "print(qset.isnull().sum())\n",
    "print('*******************************')\n",
    "print(train.isnull().sum())\n",
    "print('*******************************')\n",
    "print(test.isnull().sum())\n",
    "print('*******************************')"
   ]
  },
  {
   "cell_type": "code",
   "execution_count": 6,
   "id": "1550cde1-9814-41fb-8cd1-544c34726943",
   "metadata": {},
   "outputs": [
    {
     "name": "stdout",
     "output_type": "stream",
     "text": [
      "       id  geo_score\n",
      "0   26674       4.48\n",
      "1  204314       4.48\n",
      "*******************************\n",
      "       id  instance_scores\n",
      "0  173444            -0.88\n",
      "1  259378             1.50\n",
      "*******************************\n",
      "    Group  lambda_wt\n",
      "0  Grp936       3.41\n",
      "1  Grp347      -2.88\n",
      "*******************************\n",
      "       id  qsets_normalized_tat\n",
      "0    9983                  2.41\n",
      "1  266000                  3.10\n",
      "*******************************\n",
      "       id   Group      Per1      Per2      Per3      Per4      Per5      Per6  \\\n",
      "0  112751  Grp169  1.070000  0.580000  0.480000  0.766667  1.233333  1.993333   \n",
      "1   18495  Grp161  0.473333  1.206667  0.883333  1.430000  0.726667  0.626667   \n",
      "\n",
      "   Per7      Per8  ...      Dem8      Dem9     Cred1  Cred2     Cred3  \\\n",
      "0  0.34  1.010000  ...  0.680000  0.726667  0.606667   1.01  0.933333   \n",
      "1  0.81  0.783333  ...  0.716667  0.743333  0.680000   0.69  0.560000   \n",
      "\n",
      "      Cred4     Cred5     Cred6  Normalised_FNT  Target  \n",
      "0  0.603333  0.686667  0.673333         -245.75       0  \n",
      "1  0.670000  0.553333  0.653333         -248.00       0  \n",
      "\n",
      "[2 rows x 28 columns]\n",
      "*******************************\n",
      "       id   Group      Per1      Per2  Per3      Per4  Per5      Per6  Per7  \\\n",
      "0  146574  Grp229 -0.300000  1.540000  0.22 -0.280000  0.57  0.260000  0.70   \n",
      "1  268759  Grp141  0.633333  0.953333  0.81  0.466667  0.91  0.253333  1.04   \n",
      "\n",
      "       Per8  ...      Dem7      Dem8      Dem9     Cred1     Cred2     Cred3  \\\n",
      "0  1.076667  ...  0.786667  0.546667  0.313333  0.703333  0.813333  0.776667   \n",
      "1  0.550000  ...  0.636667  0.770000  0.993333  0.536667  0.703333  0.806667   \n",
      "\n",
      "      Cred4     Cred5     Cred6  Normalised_FNT  \n",
      "0  0.796667  0.823333  0.783333       -249.7500  \n",
      "1  0.630000  0.673333  0.673333       -249.8125  \n",
      "\n",
      "[2 rows x 27 columns]\n",
      "*******************************\n"
     ]
    }
   ],
   "source": [
    "#It's classification problem as train data has TARGET that's binary in nature and it talks if a transaction is fraudulent or not \n",
    "#We decide if it's classification or regression based on Target or dependent variable. \n",
    "#If output is yes or no, it's binary classification model, like in this case.\n",
    "\n",
    "\n",
    "print(geo.head(2))\n",
    "print('*******************************')\n",
    "print(instance.head(2))\n",
    "print('*******************************')\n",
    "print(lmbda.head(2))\n",
    "print('*******************************')\n",
    "print(qset.head(2))\n",
    "print('*******************************')\n",
    "print(train.head(2))\n",
    "print('*******************************')\n",
    "print(test.head(2))\n",
    "print('*******************************')"
   ]
  },
  {
   "cell_type": "code",
   "execution_count": 7,
   "id": "35d904d3-d09d-4260-9dc1-81887fb9573a",
   "metadata": {},
   "outputs": [],
   "source": [
    "#Note that bank has 2,84,807 unique customers ie ID, but they might have done multiple transactions\n",
    "#But they collectively belong to certain group (like branches)"
   ]
  },
  {
   "cell_type": "code",
   "execution_count": 8,
   "id": "9905794a-d47e-4123-aa96-14802019c58c",
   "metadata": {},
   "outputs": [
    {
     "name": "stdout",
     "output_type": "stream",
     "text": [
      "************** Unique ID of the Customer***************\n",
      "284807\n",
      "************************\n",
      "284807\n",
      "************************\n",
      "284807\n",
      "************************\n",
      "227845\n",
      "************************\n",
      "56962\n",
      "************************\n",
      "----------------------------------------\n",
      "************** Unique Group of the Customer***************\n",
      "1400\n",
      "************************\n",
      "1301\n",
      "************************\n",
      "915\n",
      "************************\n"
     ]
    }
   ],
   "source": [
    "print('************** Unique ID of the Customer***************')\n",
    "print(geo['id'].nunique())\n",
    "print('************************')\n",
    "print(instance['id'].nunique())\n",
    "print('************************')\n",
    "print(qset['id'].nunique())\n",
    "print('************************')\n",
    "print(train['id'].nunique())\n",
    "print('************************')\n",
    "print(test['id'].nunique())\n",
    "print('************************')\n",
    "print('----------------------------------------')\n",
    "print('************** Unique Group of the Customer***************')\n",
    "print(lmbda['Group'].nunique())\n",
    "print('************************')\n",
    "print(train['Group'].nunique())\n",
    "print('************************')\n",
    "print(test['Group'].nunique())\n",
    "print('************************')"
   ]
  },
  {
   "cell_type": "code",
   "execution_count": 9,
   "id": "dc37f2bd-a6c5-4522-961d-7040f8ac4a1b",
   "metadata": {},
   "outputs": [
    {
     "data": {
      "text/plain": [
       "284807"
      ]
     },
     "execution_count": 9,
     "metadata": {},
     "output_type": "execute_result"
    }
   ],
   "source": [
    "#test 56962 ID\n",
    "#train 227845 ID\n",
    "\n",
    "56962 + 227845"
   ]
  },
  {
   "cell_type": "code",
   "execution_count": 10,
   "id": "dc546f8e-34e8-439c-8334-8bf6860c293f",
   "metadata": {},
   "outputs": [
    {
     "name": "stdout",
     "output_type": "stream",
     "text": [
      "id           0.000000\n",
      "geo_score    5.023964\n",
      "dtype: float64\n",
      "*******************************\n",
      "id                      0.000000\n",
      "qsets_normalized_tat    7.247083\n",
      "dtype: float64\n",
      "*******************************\n"
     ]
    }
   ],
   "source": [
    "#to find the percentage of null values\n",
    "#as convention, we drop columns if percentage of null values are more than 25% or as industry specifies\n",
    "#if not, we fill the null values with median or mean (numeric data) or with mode (categorical data)\n",
    "\n",
    "print(geo.isnull().sum()/len(geo)*100)\n",
    "print('*******************************')\n",
    "print(qset.isnull().sum()/len(qset)*100)\n",
    "print('*******************************')"
   ]
  },
  {
   "cell_type": "markdown",
   "id": "5ad177b3-a5de-4a9b-beec-551639b09f0d",
   "metadata": {},
   "source": [
    "### Filling the null values in 'geo' dataset"
   ]
  },
  {
   "cell_type": "code",
   "execution_count": 11,
   "id": "aa390d91-0146-4a02-854d-79665ee76175",
   "metadata": {},
   "outputs": [
    {
     "name": "stdout",
     "output_type": "stream",
     "text": [
      "<class 'pandas.core.frame.DataFrame'>\n",
      "RangeIndex: 1424035 entries, 0 to 1424034\n",
      "Data columns (total 2 columns):\n",
      " #   Column     Non-Null Count    Dtype  \n",
      "---  ------     --------------    -----  \n",
      " 0   id         1424035 non-null  int64  \n",
      " 1   geo_score  1352492 non-null  float64\n",
      "dtypes: float64(1), int64(1)\n",
      "memory usage: 21.7 MB\n"
     ]
    }
   ],
   "source": [
    "geo.info()"
   ]
  },
  {
   "cell_type": "code",
   "execution_count": 12,
   "id": "e8d16ae8-52a2-4fa0-b55b-b8e7975550c7",
   "metadata": {},
   "outputs": [
    {
     "data": {
      "image/png": "[encoded data removed]",
      "text/plain": [
       "<Figure size 640x480 with 1 Axes>"
      ]
     },
     "metadata": {},
     "output_type": "display_data"
    }
   ],
   "source": [
    "sns.boxplot(y='geo_score', data=geo)\n",
    "plt.show()"
   ]
  },
  {
   "cell_type": "code",
   "execution_count": 13,
   "id": "2079bfb3-0db1-4bc4-91c8-5791c733ef38",
   "metadata": {},
   "outputs": [],
   "source": [
    "#as there are outliers, we use median to fill the null values instead of mean\n",
    "\n",
    "geo['geo_score']=geo['geo_score'].fillna(geo['geo_score'].median())"
   ]
  },
  {
   "cell_type": "markdown",
   "id": "793cde6a-b2b2-465f-805a-f57e3da780a7",
   "metadata": {},
   "source": [
    "### Filling the null values in 'qset' dataset"
   ]
  },
  {
   "cell_type": "code",
   "execution_count": 14,
   "id": "1785d46a-88ba-49f1-8224-73905a3c8118",
   "metadata": {},
   "outputs": [
    {
     "name": "stdout",
     "output_type": "stream",
     "text": [
      "<class 'pandas.core.frame.DataFrame'>\n",
      "RangeIndex: 1424035 entries, 0 to 1424034\n",
      "Data columns (total 2 columns):\n",
      " #   Column                Non-Null Count    Dtype  \n",
      "---  ------                --------------    -----  \n",
      " 0   id                    1424035 non-null  int64  \n",
      " 1   qsets_normalized_tat  1320834 non-null  float64\n",
      "dtypes: float64(1), int64(1)\n",
      "memory usage: 21.7 MB\n"
     ]
    }
   ],
   "source": [
    "qset.info()"
   ]
  },
  {
   "cell_type": "code",
   "execution_count": 15,
   "id": "5f1ac450-2f05-4639-87a5-1b2acbdc6976",
   "metadata": {},
   "outputs": [
    {
     "data": {
      "image/png": "[encoded data removed]",
      "text/plain": [
       "<Figure size 640x480 with 1 Axes>"
      ]
     },
     "metadata": {},
     "output_type": "display_data"
    }
   ],
   "source": [
    "sns.boxplot(y='qsets_normalized_tat', data=qset)\n",
    "plt.show()"
   ]
  },
  {
   "cell_type": "code",
   "execution_count": 16,
   "id": "edefd054-37e0-4a81-9b36-8d3f23964eb6",
   "metadata": {},
   "outputs": [],
   "source": [
    "#as there are outliers, we use median to fill the null values instead of mean\n",
    "\n",
    "qset['qsets_normalized_tat']=qset['qsets_normalized_tat'].fillna(qset['qsets_normalized_tat'].median())"
   ]
  },
  {
   "cell_type": "code",
   "execution_count": 17,
   "id": "77f8bb7f-9ee4-465b-b543-21822635b42a",
   "metadata": {},
   "outputs": [
    {
     "name": "stdout",
     "output_type": "stream",
     "text": [
      "id           0.0\n",
      "geo_score    0.0\n",
      "dtype: float64\n",
      "*******************************\n",
      "id                      0.0\n",
      "qsets_normalized_tat    0.0\n",
      "dtype: float64\n",
      "*******************************\n"
     ]
    }
   ],
   "source": [
    "print(geo.isnull().sum()/len(geo)*100)\n",
    "print('*******************************')\n",
    "print(qset.isnull().sum()/len(qset)*100)\n",
    "print('*******************************')"
   ]
  },
  {
   "cell_type": "code",
   "execution_count": 18,
   "id": "f6a74d12-929f-47eb-b6fb-7f8e20c7e3a7",
   "metadata": {},
   "outputs": [],
   "source": [
    "#now we dont have any null values in any dataset, we can proceed to checking the columns and merging the tables."
   ]
  },
  {
   "cell_type": "code",
   "execution_count": 19,
   "id": "faff6593-5bce-4a3d-948a-11266daf7de4",
   "metadata": {},
   "outputs": [
    {
     "data": {
      "text/html": [
       "<div>\n",
       "<style scoped>\n",
       "    .dataframe tbody tr th:only-of-type {\n",
       "        vertical-align: middle;\n",
       "    }\n",
       "\n",
       "    .dataframe tbody tr th {\n",
       "        vertical-align: top;\n",
       "    }\n",
       "\n",
       "    .dataframe thead th {\n",
       "        text-align: right;\n",
       "    }\n",
       "</style>\n",
       "<table border=\"1\" class=\"dataframe\">\n",
       "  <thead>\n",
       "    <tr style=\"text-align: right;\">\n",
       "      <th></th>\n",
       "      <th>id</th>\n",
       "      <th>Group</th>\n",
       "      <th>Per1</th>\n",
       "      <th>Per2</th>\n",
       "      <th>Per3</th>\n",
       "      <th>Per4</th>\n",
       "      <th>Per5</th>\n",
       "      <th>Per6</th>\n",
       "      <th>Per7</th>\n",
       "      <th>Per8</th>\n",
       "      <th>...</th>\n",
       "      <th>Dem7</th>\n",
       "      <th>Dem8</th>\n",
       "      <th>Dem9</th>\n",
       "      <th>Cred1</th>\n",
       "      <th>Cred2</th>\n",
       "      <th>Cred3</th>\n",
       "      <th>Cred4</th>\n",
       "      <th>Cred5</th>\n",
       "      <th>Cred6</th>\n",
       "      <th>Normalised_FNT</th>\n",
       "    </tr>\n",
       "  </thead>\n",
       "  <tbody>\n",
       "    <tr>\n",
       "      <th>0</th>\n",
       "      <td>146574</td>\n",
       "      <td>Grp229</td>\n",
       "      <td>-0.300000</td>\n",
       "      <td>1.540000</td>\n",
       "      <td>0.22</td>\n",
       "      <td>-0.280000</td>\n",
       "      <td>0.57</td>\n",
       "      <td>0.260000</td>\n",
       "      <td>0.70</td>\n",
       "      <td>1.076667</td>\n",
       "      <td>...</td>\n",
       "      <td>0.786667</td>\n",
       "      <td>0.546667</td>\n",
       "      <td>0.313333</td>\n",
       "      <td>0.703333</td>\n",
       "      <td>0.813333</td>\n",
       "      <td>0.776667</td>\n",
       "      <td>0.796667</td>\n",
       "      <td>0.823333</td>\n",
       "      <td>0.783333</td>\n",
       "      <td>-249.7500</td>\n",
       "    </tr>\n",
       "    <tr>\n",
       "      <th>1</th>\n",
       "      <td>268759</td>\n",
       "      <td>Grp141</td>\n",
       "      <td>0.633333</td>\n",
       "      <td>0.953333</td>\n",
       "      <td>0.81</td>\n",
       "      <td>0.466667</td>\n",
       "      <td>0.91</td>\n",
       "      <td>0.253333</td>\n",
       "      <td>1.04</td>\n",
       "      <td>0.550000</td>\n",
       "      <td>...</td>\n",
       "      <td>0.636667</td>\n",
       "      <td>0.770000</td>\n",
       "      <td>0.993333</td>\n",
       "      <td>0.536667</td>\n",
       "      <td>0.703333</td>\n",
       "      <td>0.806667</td>\n",
       "      <td>0.630000</td>\n",
       "      <td>0.673333</td>\n",
       "      <td>0.673333</td>\n",
       "      <td>-249.8125</td>\n",
       "    </tr>\n",
       "  </tbody>\n",
       "</table>\n",
       "<p>2 rows × 27 columns</p>\n",
       "</div>"
      ],
      "text/plain": [
       "       id   Group      Per1      Per2  Per3      Per4  Per5      Per6  Per7  \\\n",
       "0  146574  Grp229 -0.300000  1.540000  0.22 -0.280000  0.57  0.260000  0.70   \n",
       "1  268759  Grp141  0.633333  0.953333  0.81  0.466667  0.91  0.253333  1.04   \n",
       "\n",
       "       Per8  ...      Dem7      Dem8      Dem9     Cred1     Cred2     Cred3  \\\n",
       "0  1.076667  ...  0.786667  0.546667  0.313333  0.703333  0.813333  0.776667   \n",
       "1  0.550000  ...  0.636667  0.770000  0.993333  0.536667  0.703333  0.806667   \n",
       "\n",
       "      Cred4     Cred5     Cred6  Normalised_FNT  \n",
       "0  0.796667  0.823333  0.783333       -249.7500  \n",
       "1  0.630000  0.673333  0.673333       -249.8125  \n",
       "\n",
       "[2 rows x 27 columns]"
      ]
     },
     "execution_count": 19,
     "metadata": {},
     "output_type": "execute_result"
    }
   ],
   "source": [
    "test.head(2)"
   ]
  },
  {
   "cell_type": "code",
   "execution_count": 20,
   "id": "b01930a1-ad27-461a-a581-388195706480",
   "metadata": {},
   "outputs": [
    {
     "data": {
      "text/html": [
       "<div>\n",
       "<style scoped>\n",
       "    .dataframe tbody tr th:only-of-type {\n",
       "        vertical-align: middle;\n",
       "    }\n",
       "\n",
       "    .dataframe tbody tr th {\n",
       "        vertical-align: top;\n",
       "    }\n",
       "\n",
       "    .dataframe thead th {\n",
       "        text-align: right;\n",
       "    }\n",
       "</style>\n",
       "<table border=\"1\" class=\"dataframe\">\n",
       "  <thead>\n",
       "    <tr style=\"text-align: right;\">\n",
       "      <th></th>\n",
       "      <th>id</th>\n",
       "      <th>Group</th>\n",
       "      <th>Per1</th>\n",
       "      <th>Per2</th>\n",
       "      <th>Per3</th>\n",
       "      <th>Per4</th>\n",
       "      <th>Per5</th>\n",
       "      <th>Per6</th>\n",
       "      <th>Per7</th>\n",
       "      <th>Per8</th>\n",
       "      <th>...</th>\n",
       "      <th>Dem8</th>\n",
       "      <th>Dem9</th>\n",
       "      <th>Cred1</th>\n",
       "      <th>Cred2</th>\n",
       "      <th>Cred3</th>\n",
       "      <th>Cred4</th>\n",
       "      <th>Cred5</th>\n",
       "      <th>Cred6</th>\n",
       "      <th>Normalised_FNT</th>\n",
       "      <th>Target</th>\n",
       "    </tr>\n",
       "  </thead>\n",
       "  <tbody>\n",
       "    <tr>\n",
       "      <th>0</th>\n",
       "      <td>112751</td>\n",
       "      <td>Grp169</td>\n",
       "      <td>1.070000</td>\n",
       "      <td>0.580000</td>\n",
       "      <td>0.480000</td>\n",
       "      <td>0.766667</td>\n",
       "      <td>1.233333</td>\n",
       "      <td>1.993333</td>\n",
       "      <td>0.34</td>\n",
       "      <td>1.010000</td>\n",
       "      <td>...</td>\n",
       "      <td>0.680000</td>\n",
       "      <td>0.726667</td>\n",
       "      <td>0.606667</td>\n",
       "      <td>1.01</td>\n",
       "      <td>0.933333</td>\n",
       "      <td>0.603333</td>\n",
       "      <td>0.686667</td>\n",
       "      <td>0.673333</td>\n",
       "      <td>-245.75</td>\n",
       "      <td>0</td>\n",
       "    </tr>\n",
       "    <tr>\n",
       "      <th>1</th>\n",
       "      <td>18495</td>\n",
       "      <td>Grp161</td>\n",
       "      <td>0.473333</td>\n",
       "      <td>1.206667</td>\n",
       "      <td>0.883333</td>\n",
       "      <td>1.430000</td>\n",
       "      <td>0.726667</td>\n",
       "      <td>0.626667</td>\n",
       "      <td>0.81</td>\n",
       "      <td>0.783333</td>\n",
       "      <td>...</td>\n",
       "      <td>0.716667</td>\n",
       "      <td>0.743333</td>\n",
       "      <td>0.680000</td>\n",
       "      <td>0.69</td>\n",
       "      <td>0.560000</td>\n",
       "      <td>0.670000</td>\n",
       "      <td>0.553333</td>\n",
       "      <td>0.653333</td>\n",
       "      <td>-248.00</td>\n",
       "      <td>0</td>\n",
       "    </tr>\n",
       "  </tbody>\n",
       "</table>\n",
       "<p>2 rows × 28 columns</p>\n",
       "</div>"
      ],
      "text/plain": [
       "       id   Group      Per1      Per2      Per3      Per4      Per5      Per6  \\\n",
       "0  112751  Grp169  1.070000  0.580000  0.480000  0.766667  1.233333  1.993333   \n",
       "1   18495  Grp161  0.473333  1.206667  0.883333  1.430000  0.726667  0.626667   \n",
       "\n",
       "   Per7      Per8  ...      Dem8      Dem9     Cred1  Cred2     Cred3  \\\n",
       "0  0.34  1.010000  ...  0.680000  0.726667  0.606667   1.01  0.933333   \n",
       "1  0.81  0.783333  ...  0.716667  0.743333  0.680000   0.69  0.560000   \n",
       "\n",
       "      Cred4     Cred5     Cred6  Normalised_FNT  Target  \n",
       "0  0.603333  0.686667  0.673333         -245.75       0  \n",
       "1  0.670000  0.553333  0.653333         -248.00       0  \n",
       "\n",
       "[2 rows x 28 columns]"
      ]
     },
     "execution_count": 20,
     "metadata": {},
     "output_type": "execute_result"
    }
   ],
   "source": [
    "train.head(2)"
   ]
  },
  {
   "cell_type": "code",
   "execution_count": 21,
   "id": "e6919cf8-a847-4940-b373-0c29c15d0bd9",
   "metadata": {},
   "outputs": [
    {
     "data": {
      "text/plain": [
       "Target\n",
       "0    227451\n",
       "1       394\n",
       "Name: count, dtype: int64"
      ]
     },
     "execution_count": 21,
     "metadata": {},
     "output_type": "execute_result"
    }
   ],
   "source": [
    "# All the columns of test and train dataset are same except for the presence of additional column 'Target' in train dataset\n",
    "# Here 1 means fradulent transaction and 0 means Non-fradulent transaction\n",
    "\n",
    "train['Target'].value_counts()"
   ]
  },
  {
   "cell_type": "code",
   "execution_count": 22,
   "id": "a5412813-9bd7-4841-adb1-121a603f7b55",
   "metadata": {},
   "outputs": [],
   "source": [
    "#we add a new column in both dataset to identify if they are from test or train dataset after merging\n",
    "\n",
    "train['data']='train'\n",
    "test['data']='test'"
   ]
  },
  {
   "cell_type": "code",
   "execution_count": 23,
   "id": "77e5756f-9b7c-4671-b4a3-45af8ea208cf",
   "metadata": {},
   "outputs": [
    {
     "data": {
      "text/html": [
       "<div>\n",
       "<style scoped>\n",
       "    .dataframe tbody tr th:only-of-type {\n",
       "        vertical-align: middle;\n",
       "    }\n",
       "\n",
       "    .dataframe tbody tr th {\n",
       "        vertical-align: top;\n",
       "    }\n",
       "\n",
       "    .dataframe thead th {\n",
       "        text-align: right;\n",
       "    }\n",
       "</style>\n",
       "<table border=\"1\" class=\"dataframe\">\n",
       "  <thead>\n",
       "    <tr style=\"text-align: right;\">\n",
       "      <th></th>\n",
       "      <th>id</th>\n",
       "      <th>Group</th>\n",
       "      <th>Per1</th>\n",
       "      <th>Per2</th>\n",
       "      <th>Per3</th>\n",
       "      <th>Per4</th>\n",
       "      <th>Per5</th>\n",
       "      <th>Per6</th>\n",
       "      <th>Per7</th>\n",
       "      <th>Per8</th>\n",
       "      <th>...</th>\n",
       "      <th>Dem8</th>\n",
       "      <th>Dem9</th>\n",
       "      <th>Cred1</th>\n",
       "      <th>Cred2</th>\n",
       "      <th>Cred3</th>\n",
       "      <th>Cred4</th>\n",
       "      <th>Cred5</th>\n",
       "      <th>Cred6</th>\n",
       "      <th>Normalised_FNT</th>\n",
       "      <th>data</th>\n",
       "    </tr>\n",
       "  </thead>\n",
       "  <tbody>\n",
       "    <tr>\n",
       "      <th>0</th>\n",
       "      <td>146574</td>\n",
       "      <td>Grp229</td>\n",
       "      <td>-0.300000</td>\n",
       "      <td>1.540000</td>\n",
       "      <td>0.22</td>\n",
       "      <td>-0.280000</td>\n",
       "      <td>0.57</td>\n",
       "      <td>0.260000</td>\n",
       "      <td>0.70</td>\n",
       "      <td>1.076667</td>\n",
       "      <td>...</td>\n",
       "      <td>0.546667</td>\n",
       "      <td>0.313333</td>\n",
       "      <td>0.703333</td>\n",
       "      <td>0.813333</td>\n",
       "      <td>0.776667</td>\n",
       "      <td>0.796667</td>\n",
       "      <td>0.823333</td>\n",
       "      <td>0.783333</td>\n",
       "      <td>-249.7500</td>\n",
       "      <td>test</td>\n",
       "    </tr>\n",
       "    <tr>\n",
       "      <th>1</th>\n",
       "      <td>268759</td>\n",
       "      <td>Grp141</td>\n",
       "      <td>0.633333</td>\n",
       "      <td>0.953333</td>\n",
       "      <td>0.81</td>\n",
       "      <td>0.466667</td>\n",
       "      <td>0.91</td>\n",
       "      <td>0.253333</td>\n",
       "      <td>1.04</td>\n",
       "      <td>0.550000</td>\n",
       "      <td>...</td>\n",
       "      <td>0.770000</td>\n",
       "      <td>0.993333</td>\n",
       "      <td>0.536667</td>\n",
       "      <td>0.703333</td>\n",
       "      <td>0.806667</td>\n",
       "      <td>0.630000</td>\n",
       "      <td>0.673333</td>\n",
       "      <td>0.673333</td>\n",
       "      <td>-249.8125</td>\n",
       "      <td>test</td>\n",
       "    </tr>\n",
       "  </tbody>\n",
       "</table>\n",
       "<p>2 rows × 28 columns</p>\n",
       "</div>"
      ],
      "text/plain": [
       "       id   Group      Per1      Per2  Per3      Per4  Per5      Per6  Per7  \\\n",
       "0  146574  Grp229 -0.300000  1.540000  0.22 -0.280000  0.57  0.260000  0.70   \n",
       "1  268759  Grp141  0.633333  0.953333  0.81  0.466667  0.91  0.253333  1.04   \n",
       "\n",
       "       Per8  ...      Dem8      Dem9     Cred1     Cred2     Cred3     Cred4  \\\n",
       "0  1.076667  ...  0.546667  0.313333  0.703333  0.813333  0.776667  0.796667   \n",
       "1  0.550000  ...  0.770000  0.993333  0.536667  0.703333  0.806667  0.630000   \n",
       "\n",
       "      Cred5     Cred6  Normalised_FNT  data  \n",
       "0  0.823333  0.783333       -249.7500  test  \n",
       "1  0.673333  0.673333       -249.8125  test  \n",
       "\n",
       "[2 rows x 28 columns]"
      ]
     },
     "execution_count": 23,
     "metadata": {},
     "output_type": "execute_result"
    }
   ],
   "source": [
    "test.head(2)"
   ]
  },
  {
   "cell_type": "code",
   "execution_count": 24,
   "id": "8d1579fd-b2f5-4b3b-a609-ad2238ce043c",
   "metadata": {},
   "outputs": [
    {
     "data": {
      "text/html": [
       "<div>\n",
       "<style scoped>\n",
       "    .dataframe tbody tr th:only-of-type {\n",
       "        vertical-align: middle;\n",
       "    }\n",
       "\n",
       "    .dataframe tbody tr th {\n",
       "        vertical-align: top;\n",
       "    }\n",
       "\n",
       "    .dataframe thead th {\n",
       "        text-align: right;\n",
       "    }\n",
       "</style>\n",
       "<table border=\"1\" class=\"dataframe\">\n",
       "  <thead>\n",
       "    <tr style=\"text-align: right;\">\n",
       "      <th></th>\n",
       "      <th>id</th>\n",
       "      <th>Group</th>\n",
       "      <th>Per1</th>\n",
       "      <th>Per2</th>\n",
       "      <th>Per3</th>\n",
       "      <th>Per4</th>\n",
       "      <th>Per5</th>\n",
       "      <th>Per6</th>\n",
       "      <th>Per7</th>\n",
       "      <th>Per8</th>\n",
       "      <th>...</th>\n",
       "      <th>Dem9</th>\n",
       "      <th>Cred1</th>\n",
       "      <th>Cred2</th>\n",
       "      <th>Cred3</th>\n",
       "      <th>Cred4</th>\n",
       "      <th>Cred5</th>\n",
       "      <th>Cred6</th>\n",
       "      <th>Normalised_FNT</th>\n",
       "      <th>Target</th>\n",
       "      <th>data</th>\n",
       "    </tr>\n",
       "  </thead>\n",
       "  <tbody>\n",
       "    <tr>\n",
       "      <th>0</th>\n",
       "      <td>112751</td>\n",
       "      <td>Grp169</td>\n",
       "      <td>1.070000</td>\n",
       "      <td>0.580000</td>\n",
       "      <td>0.480000</td>\n",
       "      <td>0.766667</td>\n",
       "      <td>1.233333</td>\n",
       "      <td>1.993333</td>\n",
       "      <td>0.34</td>\n",
       "      <td>1.010000</td>\n",
       "      <td>...</td>\n",
       "      <td>0.726667</td>\n",
       "      <td>0.606667</td>\n",
       "      <td>1.01</td>\n",
       "      <td>0.933333</td>\n",
       "      <td>0.603333</td>\n",
       "      <td>0.686667</td>\n",
       "      <td>0.673333</td>\n",
       "      <td>-245.75</td>\n",
       "      <td>0</td>\n",
       "      <td>train</td>\n",
       "    </tr>\n",
       "    <tr>\n",
       "      <th>1</th>\n",
       "      <td>18495</td>\n",
       "      <td>Grp161</td>\n",
       "      <td>0.473333</td>\n",
       "      <td>1.206667</td>\n",
       "      <td>0.883333</td>\n",
       "      <td>1.430000</td>\n",
       "      <td>0.726667</td>\n",
       "      <td>0.626667</td>\n",
       "      <td>0.81</td>\n",
       "      <td>0.783333</td>\n",
       "      <td>...</td>\n",
       "      <td>0.743333</td>\n",
       "      <td>0.680000</td>\n",
       "      <td>0.69</td>\n",
       "      <td>0.560000</td>\n",
       "      <td>0.670000</td>\n",
       "      <td>0.553333</td>\n",
       "      <td>0.653333</td>\n",
       "      <td>-248.00</td>\n",
       "      <td>0</td>\n",
       "      <td>train</td>\n",
       "    </tr>\n",
       "  </tbody>\n",
       "</table>\n",
       "<p>2 rows × 29 columns</p>\n",
       "</div>"
      ],
      "text/plain": [
       "       id   Group      Per1      Per2      Per3      Per4      Per5      Per6  \\\n",
       "0  112751  Grp169  1.070000  0.580000  0.480000  0.766667  1.233333  1.993333   \n",
       "1   18495  Grp161  0.473333  1.206667  0.883333  1.430000  0.726667  0.626667   \n",
       "\n",
       "   Per7      Per8  ...      Dem9     Cred1  Cred2     Cred3     Cred4  \\\n",
       "0  0.34  1.010000  ...  0.726667  0.606667   1.01  0.933333  0.603333   \n",
       "1  0.81  0.783333  ...  0.743333  0.680000   0.69  0.560000  0.670000   \n",
       "\n",
       "      Cred5     Cred6  Normalised_FNT  Target   data  \n",
       "0  0.686667  0.673333         -245.75       0  train  \n",
       "1  0.553333  0.653333         -248.00       0  train  \n",
       "\n",
       "[2 rows x 29 columns]"
      ]
     },
     "execution_count": 24,
     "metadata": {},
     "output_type": "execute_result"
    }
   ],
   "source": [
    "train.head(2)"
   ]
  },
  {
   "cell_type": "code",
   "execution_count": 25,
   "id": "cf1d69d8-68c9-4076-8992-c7fa33f8c94a",
   "metadata": {},
   "outputs": [],
   "source": [
    "#adding both test and train dataset together\n",
    "\n",
    "all_data=pd.concat([train, test], axis=0)"
   ]
  },
  {
   "cell_type": "code",
   "execution_count": 26,
   "id": "023f8e89-2377-4e3a-aa86-a4280b8437a4",
   "metadata": {},
   "outputs": [
    {
     "name": "stdout",
     "output_type": "stream",
     "text": [
      "<class 'pandas.core.frame.DataFrame'>\n",
      "Index: 284807 entries, 0 to 56961\n",
      "Data columns (total 29 columns):\n",
      " #   Column          Non-Null Count   Dtype  \n",
      "---  ------          --------------   -----  \n",
      " 0   id              284807 non-null  int64  \n",
      " 1   Group           284807 non-null  object \n",
      " 2   Per1            284807 non-null  float64\n",
      " 3   Per2            284807 non-null  float64\n",
      " 4   Per3            284807 non-null  float64\n",
      " 5   Per4            284807 non-null  float64\n",
      " 6   Per5            284807 non-null  float64\n",
      " 7   Per6            284807 non-null  float64\n",
      " 8   Per7            284807 non-null  float64\n",
      " 9   Per8            284807 non-null  float64\n",
      " 10  Per9            284807 non-null  float64\n",
      " 11  Dem1            284807 non-null  float64\n",
      " 12  Dem2            284807 non-null  float64\n",
      " 13  Dem3            284807 non-null  float64\n",
      " 14  Dem4            284807 non-null  float64\n",
      " 15  Dem5            284807 non-null  float64\n",
      " 16  Dem6            284807 non-null  float64\n",
      " 17  Dem7            284807 non-null  float64\n",
      " 18  Dem8            284807 non-null  float64\n",
      " 19  Dem9            284807 non-null  float64\n",
      " 20  Cred1           284807 non-null  float64\n",
      " 21  Cred2           284807 non-null  float64\n",
      " 22  Cred3           284807 non-null  float64\n",
      " 23  Cred4           284807 non-null  float64\n",
      " 24  Cred5           284807 non-null  float64\n",
      " 25  Cred6           284807 non-null  float64\n",
      " 26  Normalised_FNT  284807 non-null  float64\n",
      " 27  Target          227845 non-null  float64\n",
      " 28  data            284807 non-null  object \n",
      "dtypes: float64(26), int64(1), object(2)\n",
      "memory usage: 65.2+ MB\n"
     ]
    }
   ],
   "source": [
    "all_data.info()"
   ]
  },
  {
   "cell_type": "code",
   "execution_count": 27,
   "id": "8d522057-e580-4886-bfaa-47b32a67cdd8",
   "metadata": {},
   "outputs": [
    {
     "data": {
      "text/plain": [
       "(284807, 29)"
      ]
     },
     "execution_count": 27,
     "metadata": {},
     "output_type": "execute_result"
    }
   ],
   "source": [
    "all_data.shape"
   ]
  },
  {
   "cell_type": "code",
   "execution_count": 28,
   "id": "a2f0ecbe-f1e7-4ff2-8694-27134168b33e",
   "metadata": {},
   "outputs": [],
   "source": [
    "#Overall 1400 Groups as per data. So lmbda and all_data has same number of Groups\n",
    "\n",
    "#Unique values of Group column is same in all_data and lmbda data. Hence it can be merged"
   ]
  },
  {
   "cell_type": "code",
   "execution_count": 29,
   "id": "ffd9b213-f121-45ae-946f-114ce38d56cc",
   "metadata": {},
   "outputs": [
    {
     "name": "stdout",
     "output_type": "stream",
     "text": [
      "************** Unique ID of the Customer***************\n",
      "geo 284807\n",
      "************************\n",
      "instance 284807\n",
      "************************\n",
      "qset 284807\n",
      "************************\n",
      "all_data 284807\n",
      "************************\n",
      "----------------------------------------\n",
      "************** Unique Group of the Customer***************\n",
      "lmbda 1400\n",
      "************************\n",
      "all_data 1400\n",
      "************************\n"
     ]
    }
   ],
   "source": [
    "print('************** Unique ID of the Customer***************')\n",
    "print('geo', geo['id'].nunique())\n",
    "print('************************')\n",
    "print('instance', instance['id'].nunique())\n",
    "print('************************')\n",
    "print('qset', qset['id'].nunique())\n",
    "print('************************')\n",
    "print('all_data', all_data['id'].nunique())\n",
    "print('************************')\n",
    "print('----------------------------------------')\n",
    "print('************** Unique Group of the Customer***************')\n",
    "print('lmbda', lmbda['Group'].nunique())\n",
    "print('************************')\n",
    "print('all_data', all_data['Group'].nunique())\n",
    "print('************************')\n"
   ]
  },
  {
   "cell_type": "code",
   "execution_count": 30,
   "id": "25e5b0bc-e9d6-4bcf-98aa-9250359ff1b9",
   "metadata": {},
   "outputs": [
    {
     "name": "stdout",
     "output_type": "stream",
     "text": [
      "(1424035, 2)\n",
      "*******************************\n",
      "(1424035, 2)\n",
      "*******************************\n",
      "(1400, 2)\n",
      "*******************************\n",
      "(1424035, 2)\n",
      "*******************************\n",
      "(284807, 29)\n",
      "*******************************\n"
     ]
    }
   ],
   "source": [
    "print(geo.shape)\n",
    "print('*******************************')\n",
    "print(instance.shape)\n",
    "print('*******************************')\n",
    "print(lmbda.shape)\n",
    "print('*******************************')\n",
    "print(qset.shape)\n",
    "print('*******************************')\n",
    "print(all_data.shape)\n",
    "print('*******************************')"
   ]
  },
  {
   "cell_type": "code",
   "execution_count": 31,
   "id": "c205808c-4432-413d-94b8-49a447cba413",
   "metadata": {},
   "outputs": [],
   "source": [
    "#there are multiple transactions of single customer, \n",
    "#that is why unique values are lower and actual dataset has higher rows\n",
    "#hence we use group by function to group them"
   ]
  },
  {
   "cell_type": "code",
   "execution_count": 32,
   "id": "1fcb9c31-acad-416a-b4b4-854221bbc63a",
   "metadata": {},
   "outputs": [
    {
     "data": {
      "text/html": [
       "<div>\n",
       "<style scoped>\n",
       "    .dataframe tbody tr th:only-of-type {\n",
       "        vertical-align: middle;\n",
       "    }\n",
       "\n",
       "    .dataframe tbody tr th {\n",
       "        vertical-align: top;\n",
       "    }\n",
       "\n",
       "    .dataframe thead th {\n",
       "        text-align: right;\n",
       "    }\n",
       "</style>\n",
       "<table border=\"1\" class=\"dataframe\">\n",
       "  <thead>\n",
       "    <tr style=\"text-align: right;\">\n",
       "      <th></th>\n",
       "      <th>id</th>\n",
       "      <th>geo_score</th>\n",
       "    </tr>\n",
       "  </thead>\n",
       "  <tbody>\n",
       "    <tr>\n",
       "      <th>count</th>\n",
       "      <td>1.424035e+06</td>\n",
       "      <td>1.424035e+06</td>\n",
       "    </tr>\n",
       "    <tr>\n",
       "      <th>mean</th>\n",
       "      <td>1.424030e+05</td>\n",
       "      <td>9.034321e-03</td>\n",
       "    </tr>\n",
       "    <tr>\n",
       "      <th>std</th>\n",
       "      <td>8.221673e+04</td>\n",
       "      <td>7.628149e+00</td>\n",
       "    </tr>\n",
       "    <tr>\n",
       "      <th>min</th>\n",
       "      <td>0.000000e+00</td>\n",
       "      <td>-1.093900e+02</td>\n",
       "    </tr>\n",
       "    <tr>\n",
       "      <th>25%</th>\n",
       "      <td>7.120100e+04</td>\n",
       "      <td>-5.170000e+00</td>\n",
       "    </tr>\n",
       "    <tr>\n",
       "      <th>50%</th>\n",
       "      <td>1.424030e+05</td>\n",
       "      <td>1.800000e-01</td>\n",
       "    </tr>\n",
       "    <tr>\n",
       "      <th>75%</th>\n",
       "      <td>2.136050e+05</td>\n",
       "      <td>5.170000e+00</td>\n",
       "    </tr>\n",
       "    <tr>\n",
       "      <th>max</th>\n",
       "      <td>2.848060e+05</td>\n",
       "      <td>4.581000e+01</td>\n",
       "    </tr>\n",
       "  </tbody>\n",
       "</table>\n",
       "</div>"
      ],
      "text/plain": [
       "                 id     geo_score\n",
       "count  1.424035e+06  1.424035e+06\n",
       "mean   1.424030e+05  9.034321e-03\n",
       "std    8.221673e+04  7.628149e+00\n",
       "min    0.000000e+00 -1.093900e+02\n",
       "25%    7.120100e+04 -5.170000e+00\n",
       "50%    1.424030e+05  1.800000e-01\n",
       "75%    2.136050e+05  5.170000e+00\n",
       "max    2.848060e+05  4.581000e+01"
      ]
     },
     "execution_count": 32,
     "metadata": {},
     "output_type": "execute_result"
    }
   ],
   "source": [
    "geo.describe()"
   ]
  },
  {
   "cell_type": "code",
   "execution_count": 33,
   "id": "e55f6a66-1d7b-44e6-8f54-7160138c6a04",
   "metadata": {},
   "outputs": [],
   "source": [
    "#count of id is higher ie 1424035\n",
    "#unique customer is 284807\n",
    "#so if customer withdrew money 10 times, we can take average of them "
   ]
  },
  {
   "cell_type": "code",
   "execution_count": 34,
   "id": "5b04c99b-18b0-48ec-be4b-9ab389c9e6e4",
   "metadata": {},
   "outputs": [
    {
     "data": {
      "text/plain": [
       "(1424035, 2)"
      ]
     },
     "execution_count": 34,
     "metadata": {},
     "output_type": "execute_result"
    }
   ],
   "source": [
    "#similarly\n",
    "\n",
    "instance.shape"
   ]
  },
  {
   "cell_type": "code",
   "execution_count": 35,
   "id": "5767501c-5c7e-488b-b382-c0e1821b5858",
   "metadata": {},
   "outputs": [
    {
     "data": {
      "text/html": [
       "<div>\n",
       "<style scoped>\n",
       "    .dataframe tbody tr th:only-of-type {\n",
       "        vertical-align: middle;\n",
       "    }\n",
       "\n",
       "    .dataframe tbody tr th {\n",
       "        vertical-align: top;\n",
       "    }\n",
       "\n",
       "    .dataframe thead th {\n",
       "        text-align: right;\n",
       "    }\n",
       "</style>\n",
       "<table border=\"1\" class=\"dataframe\">\n",
       "  <thead>\n",
       "    <tr style=\"text-align: right;\">\n",
       "      <th></th>\n",
       "      <th>id</th>\n",
       "      <th>instance_scores</th>\n",
       "    </tr>\n",
       "  </thead>\n",
       "  <tbody>\n",
       "    <tr>\n",
       "      <th>count</th>\n",
       "      <td>1.424035e+06</td>\n",
       "      <td>1.424035e+06</td>\n",
       "    </tr>\n",
       "    <tr>\n",
       "      <th>mean</th>\n",
       "      <td>1.424030e+05</td>\n",
       "      <td>-2.879143e-06</td>\n",
       "    </tr>\n",
       "    <tr>\n",
       "      <th>std</th>\n",
       "      <td>8.221673e+04</td>\n",
       "      <td>2.544506e+00</td>\n",
       "    </tr>\n",
       "    <tr>\n",
       "      <th>min</th>\n",
       "      <td>0.000000e+00</td>\n",
       "      <td>-1.231900e+02</td>\n",
       "    </tr>\n",
       "    <tr>\n",
       "      <th>25%</th>\n",
       "      <td>7.120100e+04</td>\n",
       "      <td>-6.400000e-01</td>\n",
       "    </tr>\n",
       "    <tr>\n",
       "      <th>50%</th>\n",
       "      <td>1.424030e+05</td>\n",
       "      <td>-4.000000e-02</td>\n",
       "    </tr>\n",
       "    <tr>\n",
       "      <th>75%</th>\n",
       "      <td>2.136050e+05</td>\n",
       "      <td>5.900000e-01</td>\n",
       "    </tr>\n",
       "    <tr>\n",
       "      <th>max</th>\n",
       "      <td>2.848060e+05</td>\n",
       "      <td>1.203500e+02</td>\n",
       "    </tr>\n",
       "  </tbody>\n",
       "</table>\n",
       "</div>"
      ],
      "text/plain": [
       "                 id  instance_scores\n",
       "count  1.424035e+06     1.424035e+06\n",
       "mean   1.424030e+05    -2.879143e-06\n",
       "std    8.221673e+04     2.544506e+00\n",
       "min    0.000000e+00    -1.231900e+02\n",
       "25%    7.120100e+04    -6.400000e-01\n",
       "50%    1.424030e+05    -4.000000e-02\n",
       "75%    2.136050e+05     5.900000e-01\n",
       "max    2.848060e+05     1.203500e+02"
      ]
     },
     "execution_count": 35,
     "metadata": {},
     "output_type": "execute_result"
    }
   ],
   "source": [
    "instance.describe()"
   ]
  },
  {
   "cell_type": "code",
   "execution_count": 36,
   "id": "160acfe6-efec-4e63-9be2-3408fa148b74",
   "metadata": {},
   "outputs": [],
   "source": [
    "geo= geo.groupby('id').mean()\n",
    "instance= instance.groupby('id').mean()\n",
    "qset= qset.groupby('id').mean()"
   ]
  },
  {
   "cell_type": "code",
   "execution_count": 37,
   "id": "04dba746-5a64-4679-addb-05e07a8ad840",
   "metadata": {},
   "outputs": [
    {
     "name": "stdout",
     "output_type": "stream",
     "text": [
      "geo (284807, 1)\n",
      "instance (284807, 1)\n",
      "qset (284807, 1)\n"
     ]
    }
   ],
   "source": [
    "#now only the unique values are there\n",
    "\n",
    "print('geo', geo.shape)\n",
    "print('instance', instance.shape)\n",
    "print('qset', qset.shape)"
   ]
  },
  {
   "cell_type": "code",
   "execution_count": 38,
   "id": "e38b0c3c-6773-44eb-b38d-70f939f32af5",
   "metadata": {},
   "outputs": [
    {
     "data": {
      "text/plain": [
       "(284807, 29)"
      ]
     },
     "execution_count": 38,
     "metadata": {},
     "output_type": "execute_result"
    }
   ],
   "source": [
    "all_data.shape"
   ]
  },
  {
   "cell_type": "code",
   "execution_count": 39,
   "id": "19e9f277-de8d-4cba-ad48-b3e0f93c3966",
   "metadata": {},
   "outputs": [
    {
     "data": {
      "text/plain": [
       "(1400, 2)"
      ]
     },
     "execution_count": 39,
     "metadata": {},
     "output_type": "execute_result"
    }
   ],
   "source": [
    "lmbda.shape"
   ]
  },
  {
   "cell_type": "code",
   "execution_count": 40,
   "id": "5eca8bd0-8fb0-436d-a34b-9fb0a5c337a9",
   "metadata": {},
   "outputs": [],
   "source": [
    "#merging all_data and lmbda using left join\n",
    "\n",
    "all_data=pd.merge(all_data, lmbda, on='Group', how='left')"
   ]
  },
  {
   "cell_type": "code",
   "execution_count": 41,
   "id": "005f9eb7-bfe6-43fe-a28d-22ca68899a14",
   "metadata": {},
   "outputs": [
    {
     "data": {
      "text/plain": [
       "(284807, 30)"
      ]
     },
     "execution_count": 41,
     "metadata": {},
     "output_type": "execute_result"
    }
   ],
   "source": [
    "all_data.shape"
   ]
  },
  {
   "cell_type": "code",
   "execution_count": 42,
   "id": "e024cb1e-3874-4263-9933-8ae800d7f4c0",
   "metadata": {},
   "outputs": [
    {
     "data": {
      "text/html": [
       "<div>\n",
       "<style scoped>\n",
       "    .dataframe tbody tr th:only-of-type {\n",
       "        vertical-align: middle;\n",
       "    }\n",
       "\n",
       "    .dataframe tbody tr th {\n",
       "        vertical-align: top;\n",
       "    }\n",
       "\n",
       "    .dataframe thead th {\n",
       "        text-align: right;\n",
       "    }\n",
       "</style>\n",
       "<table border=\"1\" class=\"dataframe\">\n",
       "  <thead>\n",
       "    <tr style=\"text-align: right;\">\n",
       "      <th></th>\n",
       "      <th>id</th>\n",
       "      <th>Group</th>\n",
       "      <th>Per1</th>\n",
       "      <th>Per2</th>\n",
       "      <th>Per3</th>\n",
       "      <th>Per4</th>\n",
       "      <th>Per5</th>\n",
       "      <th>Per6</th>\n",
       "      <th>Per7</th>\n",
       "      <th>Per8</th>\n",
       "      <th>...</th>\n",
       "      <th>Cred1</th>\n",
       "      <th>Cred2</th>\n",
       "      <th>Cred3</th>\n",
       "      <th>Cred4</th>\n",
       "      <th>Cred5</th>\n",
       "      <th>Cred6</th>\n",
       "      <th>Normalised_FNT</th>\n",
       "      <th>Target</th>\n",
       "      <th>data</th>\n",
       "      <th>lambda_wt</th>\n",
       "    </tr>\n",
       "  </thead>\n",
       "  <tbody>\n",
       "    <tr>\n",
       "      <th>0</th>\n",
       "      <td>112751</td>\n",
       "      <td>Grp169</td>\n",
       "      <td>1.070000</td>\n",
       "      <td>0.580000</td>\n",
       "      <td>0.480000</td>\n",
       "      <td>0.766667</td>\n",
       "      <td>1.233333</td>\n",
       "      <td>1.993333</td>\n",
       "      <td>0.34</td>\n",
       "      <td>1.010000</td>\n",
       "      <td>...</td>\n",
       "      <td>0.606667</td>\n",
       "      <td>1.01</td>\n",
       "      <td>0.933333</td>\n",
       "      <td>0.603333</td>\n",
       "      <td>0.686667</td>\n",
       "      <td>0.673333</td>\n",
       "      <td>-245.75</td>\n",
       "      <td>0.0</td>\n",
       "      <td>train</td>\n",
       "      <td>-0.13</td>\n",
       "    </tr>\n",
       "    <tr>\n",
       "      <th>1</th>\n",
       "      <td>18495</td>\n",
       "      <td>Grp161</td>\n",
       "      <td>0.473333</td>\n",
       "      <td>1.206667</td>\n",
       "      <td>0.883333</td>\n",
       "      <td>1.430000</td>\n",
       "      <td>0.726667</td>\n",
       "      <td>0.626667</td>\n",
       "      <td>0.81</td>\n",
       "      <td>0.783333</td>\n",
       "      <td>...</td>\n",
       "      <td>0.680000</td>\n",
       "      <td>0.69</td>\n",
       "      <td>0.560000</td>\n",
       "      <td>0.670000</td>\n",
       "      <td>0.553333</td>\n",
       "      <td>0.653333</td>\n",
       "      <td>-248.00</td>\n",
       "      <td>0.0</td>\n",
       "      <td>train</td>\n",
       "      <td>0.66</td>\n",
       "    </tr>\n",
       "  </tbody>\n",
       "</table>\n",
       "<p>2 rows × 30 columns</p>\n",
       "</div>"
      ],
      "text/plain": [
       "       id   Group      Per1      Per2      Per3      Per4      Per5      Per6  \\\n",
       "0  112751  Grp169  1.070000  0.580000  0.480000  0.766667  1.233333  1.993333   \n",
       "1   18495  Grp161  0.473333  1.206667  0.883333  1.430000  0.726667  0.626667   \n",
       "\n",
       "   Per7      Per8  ...     Cred1  Cred2     Cred3     Cred4     Cred5  \\\n",
       "0  0.34  1.010000  ...  0.606667   1.01  0.933333  0.603333  0.686667   \n",
       "1  0.81  0.783333  ...  0.680000   0.69  0.560000  0.670000  0.553333   \n",
       "\n",
       "      Cred6  Normalised_FNT  Target   data  lambda_wt  \n",
       "0  0.673333         -245.75     0.0  train      -0.13  \n",
       "1  0.653333         -248.00     0.0  train       0.66  \n",
       "\n",
       "[2 rows x 30 columns]"
      ]
     },
     "execution_count": 42,
     "metadata": {},
     "output_type": "execute_result"
    }
   ],
   "source": [
    "all_data.head(2)"
   ]
  },
  {
   "cell_type": "code",
   "execution_count": 43,
   "id": "ee997190-8918-4441-9237-5c5aaef243c4",
   "metadata": {},
   "outputs": [],
   "source": [
    "#similarly we shall merge all_data with other datasets \n",
    "\n",
    "all_data=pd.merge(all_data, geo, on='id', how='left')"
   ]
  },
  {
   "cell_type": "code",
   "execution_count": 44,
   "id": "b6c42f12-6300-46f4-8c8d-1c0d3a5b2f86",
   "metadata": {},
   "outputs": [],
   "source": [
    "all_data=pd.merge(all_data, instance, on='id', how='left')\n"
   ]
  },
  {
   "cell_type": "code",
   "execution_count": 45,
   "id": "f1aabf48-9a3d-4735-86b1-e5acb0777fbe",
   "metadata": {},
   "outputs": [],
   "source": [
    "all_data=pd.merge(all_data, qset, on='id', how='left')"
   ]
  },
  {
   "cell_type": "code",
   "execution_count": 46,
   "id": "e1ea3e01-06e2-41af-8f91-6a423edf3149",
   "metadata": {},
   "outputs": [
    {
     "data": {
      "text/plain": [
       "(284807, 33)"
      ]
     },
     "execution_count": 46,
     "metadata": {},
     "output_type": "execute_result"
    }
   ],
   "source": [
    "all_data.shape"
   ]
  },
  {
   "cell_type": "code",
   "execution_count": 47,
   "id": "0663d93f-f463-4979-8fec-e41ce847575f",
   "metadata": {},
   "outputs": [
    {
     "data": {
      "text/html": [
       "<div>\n",
       "<style scoped>\n",
       "    .dataframe tbody tr th:only-of-type {\n",
       "        vertical-align: middle;\n",
       "    }\n",
       "\n",
       "    .dataframe tbody tr th {\n",
       "        vertical-align: top;\n",
       "    }\n",
       "\n",
       "    .dataframe thead th {\n",
       "        text-align: right;\n",
       "    }\n",
       "</style>\n",
       "<table border=\"1\" class=\"dataframe\">\n",
       "  <thead>\n",
       "    <tr style=\"text-align: right;\">\n",
       "      <th></th>\n",
       "      <th>id</th>\n",
       "      <th>Group</th>\n",
       "      <th>Per1</th>\n",
       "      <th>Per2</th>\n",
       "      <th>Per3</th>\n",
       "      <th>Per4</th>\n",
       "      <th>Per5</th>\n",
       "      <th>Per6</th>\n",
       "      <th>Per7</th>\n",
       "      <th>Per8</th>\n",
       "      <th>...</th>\n",
       "      <th>Cred4</th>\n",
       "      <th>Cred5</th>\n",
       "      <th>Cred6</th>\n",
       "      <th>Normalised_FNT</th>\n",
       "      <th>Target</th>\n",
       "      <th>data</th>\n",
       "      <th>lambda_wt</th>\n",
       "      <th>geo_score</th>\n",
       "      <th>instance_scores</th>\n",
       "      <th>qsets_normalized_tat</th>\n",
       "    </tr>\n",
       "  </thead>\n",
       "  <tbody>\n",
       "    <tr>\n",
       "      <th>0</th>\n",
       "      <td>112751</td>\n",
       "      <td>Grp169</td>\n",
       "      <td>1.070000</td>\n",
       "      <td>0.580000</td>\n",
       "      <td>0.480000</td>\n",
       "      <td>0.766667</td>\n",
       "      <td>1.233333</td>\n",
       "      <td>1.993333</td>\n",
       "      <td>0.340000</td>\n",
       "      <td>1.010000</td>\n",
       "      <td>...</td>\n",
       "      <td>0.603333</td>\n",
       "      <td>0.686667</td>\n",
       "      <td>0.673333</td>\n",
       "      <td>-245.7500</td>\n",
       "      <td>0.0</td>\n",
       "      <td>train</td>\n",
       "      <td>-0.13</td>\n",
       "      <td>0.256</td>\n",
       "      <td>-0.06</td>\n",
       "      <td>-0.700</td>\n",
       "    </tr>\n",
       "    <tr>\n",
       "      <th>1</th>\n",
       "      <td>18495</td>\n",
       "      <td>Grp161</td>\n",
       "      <td>0.473333</td>\n",
       "      <td>1.206667</td>\n",
       "      <td>0.883333</td>\n",
       "      <td>1.430000</td>\n",
       "      <td>0.726667</td>\n",
       "      <td>0.626667</td>\n",
       "      <td>0.810000</td>\n",
       "      <td>0.783333</td>\n",
       "      <td>...</td>\n",
       "      <td>0.670000</td>\n",
       "      <td>0.553333</td>\n",
       "      <td>0.653333</td>\n",
       "      <td>-248.0000</td>\n",
       "      <td>0.0</td>\n",
       "      <td>train</td>\n",
       "      <td>0.66</td>\n",
       "      <td>-0.250</td>\n",
       "      <td>0.52</td>\n",
       "      <td>0.140</td>\n",
       "    </tr>\n",
       "    <tr>\n",
       "      <th>2</th>\n",
       "      <td>23915</td>\n",
       "      <td>Grp261</td>\n",
       "      <td>1.130000</td>\n",
       "      <td>0.143333</td>\n",
       "      <td>0.946667</td>\n",
       "      <td>0.123333</td>\n",
       "      <td>0.080000</td>\n",
       "      <td>0.836667</td>\n",
       "      <td>0.056667</td>\n",
       "      <td>0.756667</td>\n",
       "      <td>...</td>\n",
       "      <td>0.670000</td>\n",
       "      <td>0.686667</td>\n",
       "      <td>0.673333</td>\n",
       "      <td>-233.1250</td>\n",
       "      <td>0.0</td>\n",
       "      <td>train</td>\n",
       "      <td>-0.51</td>\n",
       "      <td>-0.950</td>\n",
       "      <td>1.56</td>\n",
       "      <td>-0.430</td>\n",
       "    </tr>\n",
       "    <tr>\n",
       "      <th>3</th>\n",
       "      <td>50806</td>\n",
       "      <td>Grp198</td>\n",
       "      <td>0.636667</td>\n",
       "      <td>1.090000</td>\n",
       "      <td>0.750000</td>\n",
       "      <td>0.940000</td>\n",
       "      <td>0.743333</td>\n",
       "      <td>0.346667</td>\n",
       "      <td>0.956667</td>\n",
       "      <td>0.633333</td>\n",
       "      <td>...</td>\n",
       "      <td>0.520000</td>\n",
       "      <td>0.846667</td>\n",
       "      <td>0.760000</td>\n",
       "      <td>-249.7775</td>\n",
       "      <td>0.0</td>\n",
       "      <td>train</td>\n",
       "      <td>0.72</td>\n",
       "      <td>0.490</td>\n",
       "      <td>0.70</td>\n",
       "      <td>-0.302</td>\n",
       "    </tr>\n",
       "    <tr>\n",
       "      <th>4</th>\n",
       "      <td>184244</td>\n",
       "      <td>Grp228</td>\n",
       "      <td>0.560000</td>\n",
       "      <td>1.013333</td>\n",
       "      <td>0.593333</td>\n",
       "      <td>0.416667</td>\n",
       "      <td>0.773333</td>\n",
       "      <td>0.460000</td>\n",
       "      <td>0.853333</td>\n",
       "      <td>0.796667</td>\n",
       "      <td>...</td>\n",
       "      <td>0.716667</td>\n",
       "      <td>0.706667</td>\n",
       "      <td>0.673333</td>\n",
       "      <td>-247.5775</td>\n",
       "      <td>0.0</td>\n",
       "      <td>train</td>\n",
       "      <td>0.60</td>\n",
       "      <td>0.850</td>\n",
       "      <td>-0.47</td>\n",
       "      <td>-0.630</td>\n",
       "    </tr>\n",
       "  </tbody>\n",
       "</table>\n",
       "<p>5 rows × 33 columns</p>\n",
       "</div>"
      ],
      "text/plain": [
       "       id   Group      Per1      Per2      Per3      Per4      Per5      Per6  \\\n",
       "0  112751  Grp169  1.070000  0.580000  0.480000  0.766667  1.233333  1.993333   \n",
       "1   18495  Grp161  0.473333  1.206667  0.883333  1.430000  0.726667  0.626667   \n",
       "2   23915  Grp261  1.130000  0.143333  0.946667  0.123333  0.080000  0.836667   \n",
       "3   50806  Grp198  0.636667  1.090000  0.750000  0.940000  0.743333  0.346667   \n",
       "4  184244  Grp228  0.560000  1.013333  0.593333  0.416667  0.773333  0.460000   \n",
       "\n",
       "       Per7      Per8  ...     Cred4     Cred5     Cred6  Normalised_FNT  \\\n",
       "0  0.340000  1.010000  ...  0.603333  0.686667  0.673333       -245.7500   \n",
       "1  0.810000  0.783333  ...  0.670000  0.553333  0.653333       -248.0000   \n",
       "2  0.056667  0.756667  ...  0.670000  0.686667  0.673333       -233.1250   \n",
       "3  0.956667  0.633333  ...  0.520000  0.846667  0.760000       -249.7775   \n",
       "4  0.853333  0.796667  ...  0.716667  0.706667  0.673333       -247.5775   \n",
       "\n",
       "   Target   data  lambda_wt  geo_score  instance_scores  qsets_normalized_tat  \n",
       "0     0.0  train      -0.13      0.256            -0.06                -0.700  \n",
       "1     0.0  train       0.66     -0.250             0.52                 0.140  \n",
       "2     0.0  train      -0.51     -0.950             1.56                -0.430  \n",
       "3     0.0  train       0.72      0.490             0.70                -0.302  \n",
       "4     0.0  train       0.60      0.850            -0.47                -0.630  \n",
       "\n",
       "[5 rows x 33 columns]"
      ]
     },
     "execution_count": 47,
     "metadata": {},
     "output_type": "execute_result"
    }
   ],
   "source": [
    "all_data.head()"
   ]
  },
  {
   "cell_type": "code",
   "execution_count": 48,
   "id": "e9c33977-488d-40c2-9af5-f1153b864513",
   "metadata": {},
   "outputs": [],
   "source": [
    "#here we can see if its training dataset or testing dataset from column 'data'\n",
    "#hence we now divide the data into training and testing dataset\n",
    "\n",
    "train=all_data[all_data['data']=='train']\n",
    "test=all_data[all_data['data']=='test']"
   ]
  },
  {
   "cell_type": "code",
   "execution_count": 49,
   "id": "0b348b5a-215c-4bab-83f0-06a73df4baf8",
   "metadata": {},
   "outputs": [
    {
     "data": {
      "text/plain": [
       "(56962, 33)"
      ]
     },
     "execution_count": 49,
     "metadata": {},
     "output_type": "execute_result"
    }
   ],
   "source": [
    "test.shape"
   ]
  },
  {
   "cell_type": "code",
   "execution_count": 50,
   "id": "c9d5530c-a3dc-401c-9da2-f5a8e031ee4f",
   "metadata": {},
   "outputs": [
    {
     "data": {
      "text/plain": [
       "(227845, 33)"
      ]
     },
     "execution_count": 50,
     "metadata": {},
     "output_type": "execute_result"
    }
   ],
   "source": [
    "train.shape"
   ]
  },
  {
   "cell_type": "code",
   "execution_count": 51,
   "id": "c7664428-cb22-44bc-b605-fb0f121635ba",
   "metadata": {},
   "outputs": [],
   "source": [
    "#its same number of rows that was there in train and test data when imported\n",
    "\n",
    "# we can drop a few columns which are not important in model building from these datasets"
   ]
  },
  {
   "cell_type": "code",
   "execution_count": 52,
   "id": "56af9865-2bbc-4836-8f84-21508228137e",
   "metadata": {},
   "outputs": [
    {
     "data": {
      "text/plain": [
       "Index(['id', 'Group', 'Per1', 'Per2', 'Per3', 'Per4', 'Per5', 'Per6', 'Per7',\n",
       "       'Per8', 'Per9', 'Dem1', 'Dem2', 'Dem3', 'Dem4', 'Dem5', 'Dem6', 'Dem7',\n",
       "       'Dem8', 'Dem9', 'Cred1', 'Cred2', 'Cred3', 'Cred4', 'Cred5', 'Cred6',\n",
       "       'Normalised_FNT', 'Target', 'data', 'lambda_wt', 'geo_score',\n",
       "       'instance_scores', 'qsets_normalized_tat'],\n",
       "      dtype='object')"
      ]
     },
     "execution_count": 52,
     "metadata": {},
     "output_type": "execute_result"
    }
   ],
   "source": [
    "train.columns"
   ]
  },
  {
   "cell_type": "code",
   "execution_count": 53,
   "id": "bb3928f7-5735-4e9c-8ba0-691bbb3ac968",
   "metadata": {},
   "outputs": [
    {
     "data": {
      "text/plain": [
       "Index(['id', 'Group', 'Per1', 'Per2', 'Per3', 'Per4', 'Per5', 'Per6', 'Per7',\n",
       "       'Per8', 'Per9', 'Dem1', 'Dem2', 'Dem3', 'Dem4', 'Dem5', 'Dem6', 'Dem7',\n",
       "       'Dem8', 'Dem9', 'Cred1', 'Cred2', 'Cred3', 'Cred4', 'Cred5', 'Cred6',\n",
       "       'Normalised_FNT', 'Target', 'data', 'lambda_wt', 'geo_score',\n",
       "       'instance_scores', 'qsets_normalized_tat'],\n",
       "      dtype='object')"
      ]
     },
     "execution_count": 53,
     "metadata": {},
     "output_type": "execute_result"
    }
   ],
   "source": [
    "test.columns"
   ]
  },
  {
   "cell_type": "code",
   "execution_count": 54,
   "id": "e46399a2-acc1-424f-850a-c6ed4e25e502",
   "metadata": {},
   "outputs": [
    {
     "data": {
      "text/plain": [
       "id                          0\n",
       "Group                       0\n",
       "Per1                        0\n",
       "Per2                        0\n",
       "Per3                        0\n",
       "Per4                        0\n",
       "Per5                        0\n",
       "Per6                        0\n",
       "Per7                        0\n",
       "Per8                        0\n",
       "Per9                        0\n",
       "Dem1                        0\n",
       "Dem2                        0\n",
       "Dem3                        0\n",
       "Dem4                        0\n",
       "Dem5                        0\n",
       "Dem6                        0\n",
       "Dem7                        0\n",
       "Dem8                        0\n",
       "Dem9                        0\n",
       "Cred1                       0\n",
       "Cred2                       0\n",
       "Cred3                       0\n",
       "Cred4                       0\n",
       "Cred5                       0\n",
       "Cred6                       0\n",
       "Normalised_FNT              0\n",
       "Target                  56962\n",
       "data                        0\n",
       "lambda_wt                   0\n",
       "geo_score                   0\n",
       "instance_scores             0\n",
       "qsets_normalized_tat        0\n",
       "dtype: int64"
      ]
     },
     "execution_count": 54,
     "metadata": {},
     "output_type": "execute_result"
    }
   ],
   "source": [
    "# 'Target' column can be dropped now from test dataset as its missing\n",
    "\n",
    "test.isnull().sum()"
   ]
  },
  {
   "cell_type": "code",
   "execution_count": 55,
   "id": "1446c33b-9cf9-42ab-b7fb-306c36e2e8ac",
   "metadata": {},
   "outputs": [],
   "source": [
    "train= train.drop(['id','data'], axis=1) #building a model\n",
    "test= test.drop(['id','data','Target'], axis=1) #prediction and final result"
   ]
  },
  {
   "cell_type": "code",
   "execution_count": 56,
   "id": "32a37c8b-858f-4eb4-a411-bd175f987dda",
   "metadata": {},
   "outputs": [
    {
     "data": {
      "text/plain": [
       "Index(['Group', 'Per1', 'Per2', 'Per3', 'Per4', 'Per5', 'Per6', 'Per7', 'Per8',\n",
       "       'Per9', 'Dem1', 'Dem2', 'Dem3', 'Dem4', 'Dem5', 'Dem6', 'Dem7', 'Dem8',\n",
       "       'Dem9', 'Cred1', 'Cred2', 'Cred3', 'Cred4', 'Cred5', 'Cred6',\n",
       "       'Normalised_FNT', 'Target', 'lambda_wt', 'geo_score', 'instance_scores',\n",
       "       'qsets_normalized_tat'],\n",
       "      dtype='object')"
      ]
     },
     "execution_count": 56,
     "metadata": {},
     "output_type": "execute_result"
    }
   ],
   "source": [
    "train.columns"
   ]
  },
  {
   "cell_type": "code",
   "execution_count": 57,
   "id": "77ad2950-7f9e-4d72-82d4-073876e75a23",
   "metadata": {},
   "outputs": [
    {
     "data": {
      "text/plain": [
       "Index(['Group', 'Per1', 'Per2', 'Per3', 'Per4', 'Per5', 'Per6', 'Per7', 'Per8',\n",
       "       'Per9', 'Dem1', 'Dem2', 'Dem3', 'Dem4', 'Dem5', 'Dem6', 'Dem7', 'Dem8',\n",
       "       'Dem9', 'Cred1', 'Cred2', 'Cred3', 'Cred4', 'Cred5', 'Cred6',\n",
       "       'Normalised_FNT', 'lambda_wt', 'geo_score', 'instance_scores',\n",
       "       'qsets_normalized_tat'],\n",
       "      dtype='object')"
      ]
     },
     "execution_count": 57,
     "metadata": {},
     "output_type": "execute_result"
    }
   ],
   "source": [
    "test.columns"
   ]
  },
  {
   "cell_type": "code",
   "execution_count": 58,
   "id": "d38c165e-56b8-4f67-be5b-80746bbaf9ec",
   "metadata": {},
   "outputs": [],
   "source": [
    "# in train dataset, we have to divide it into dependent or target variable(y) and independent(x) variable\n",
    "\n",
    "x= train.drop(['Target'], axis=1)\n",
    "y=train['Target']"
   ]
  },
  {
   "cell_type": "code",
   "execution_count": 59,
   "id": "5a7247b1-b5e5-4e3a-a9c6-1d597990f0a9",
   "metadata": {},
   "outputs": [],
   "source": [
    "# we split the data into train and test dataset\n",
    "\n",
    "# can be sent for building model and testing the model"
   ]
  },
  {
   "cell_type": "code",
   "execution_count": null,
   "id": "29e44df8-e565-40b5-b901-5f0197703c5a",
   "metadata": {},
   "outputs": [],
   "source": []
  },
  {
   "cell_type": "code",
   "execution_count": null,
   "id": "b3acf1b8-c2f5-4391-938b-eee180983545",
   "metadata": {},
   "outputs": [],
   "source": []
  }
 ],
 "metadata": {
  "kernelspec": {
   "display_name": "Python 3 (ipykernel)",
   "language": "python",
   "name": "python3"
  },
  "language_info": {
   "codemirror_mode": {
    "name": "ipython",
    "version": 3
   },
   "file_extension": ".py",
   "mimetype": "text/x-python",
   "name": "python",
   "nbconvert_exporter": "python",
   "pygments_lexer": "ipython3",
   "version": "3.12.7"
  }
 },
 "nbformat": 4,
 "nbformat_minor": 5
}
